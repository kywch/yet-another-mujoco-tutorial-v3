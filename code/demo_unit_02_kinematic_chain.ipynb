{
 "cells": [
  {
   "cell_type": "markdown",
   "id": "2f5ed6f1",
   "metadata": {},
   "source": [
    "### Construct Kinematic Chain using `networkx` package"
   ]
  },
  {
   "cell_type": "code",
   "execution_count": 16,
   "id": "60d40648",
   "metadata": {},
   "outputs": [
    {
     "name": "stdout",
     "output_type": "stream",
     "text": [
      "networkx version:[3.1]\n"
     ]
    }
   ],
   "source": [
    "import copy\n",
    "import numpy as np\n",
    "import networkx as nx\n",
    "import matplotlib.pyplot as plt\n",
    "from util import r2rpy,rpy2r,rodrigues\n",
    "from networkx.algorithms.traversal.depth_first_search import dfs_edges\n",
    "np.set_printoptions(precision=2)\n",
    "%matplotlib inline\n",
    "%config InlineBackend.figure_format='retina'\n",
    "print (\"networkx version:[%s]\"%(nx.__version__))"
   ]
  },
  {
   "cell_type": "markdown",
   "id": "2c9e1c5f",
   "metadata": {},
   "source": [
    "### Manually construct a kinematic chain"
   ]
  },
  {
   "cell_type": "code",
   "execution_count": 17,
   "id": "093cb4fb",
   "metadata": {},
   "outputs": [
    {
     "name": "stdout",
     "output_type": "stream",
     "text": [
      "Ready.\n"
     ]
    }
   ],
   "source": [
    "class KinematicChainClass(object):\n",
    "    def __init__(self,name='Kinematic Chain'):\n",
    "        \"\"\"\n",
    "            Initialize Kinematic Chain Object\n",
    "        \"\"\"\n",
    "        self.name        = name \n",
    "        self.chain       = None\n",
    "        self.joint_names = []\n",
    "        # Initialize chain\n",
    "        self.init_chain()\n",
    "        \n",
    "    def init_chain(self):\n",
    "        \"\"\"\n",
    "            Initialize chain\n",
    "        \"\"\"\n",
    "        if self.chain is not None:\n",
    "            self.chain.clear()\n",
    "        self.chain = nx.DiGraph(name=self.name)\n",
    "        \n",
    "    def get_n_joint(self):\n",
    "        \"\"\"\n",
    "            Get the number of joints\n",
    "        \"\"\"\n",
    "        return self.chain.number_of_nodes()\n",
    "    \n",
    "    def get_joint_idx(self,joint_name):\n",
    "        \"\"\"\n",
    "            Get the index of a joint\n",
    "        \"\"\"\n",
    "        joint_idx = self.joint_names.index(joint_name)\n",
    "        return joint_idx\n",
    "    \n",
    "    def get_joint_idxs(self,joint_names):\n",
    "        \"\"\"\n",
    "            Get the indices of joints \n",
    "        \"\"\"\n",
    "        joint_idxs = [[idx for idx,item in enumerate(self.joint_names) \n",
    "                       if item==joint_name] for joint_name in joint_names]\n",
    "        return joint_idxs\n",
    "\n",
    "    def add_joint(self,name='',a=np.array([0,0,0]),\n",
    "                  p=np.zeros(3),R=np.eye(3),\n",
    "                  p_offset=np.zeros(3),R_offset=np.eye(3),\n",
    "                  parent_name=None):\n",
    "        \"\"\"\n",
    "            Add joint to the chain\n",
    "        \"\"\"\n",
    "        # Add new node (=joint)\n",
    "        new_joint_idx = self.get_n_joint()\n",
    "        self.chain.add_node(new_joint_idx)\n",
    "        \n",
    "        # Update joint information\n",
    "        joint_info = {'name':name,'p':p,'R':R,'q':0.0,\n",
    "                      'a':a,'p_offset':p_offset,'R_offset':R_offset,\n",
    "                      'parent':[],'childs':[]}\n",
    "        self.chain.update(nodes=[(new_joint_idx,joint_info)])\n",
    "        \n",
    "        # Append joint name\n",
    "        self.joint_names.append(name)\n",
    "        \n",
    "        # Add parent \n",
    "        if parent_name is not None:\n",
    "            # Add parent index\n",
    "            parent_idx = self.get_joint_idx(parent_name)\n",
    "            self.chain.nodes[new_joint_idx]['parent'] = parent_idx\n",
    "            # Connect parent and child\n",
    "            self.chain.add_edge(u_of_edge=parent_idx,v_of_edge=new_joint_idx)\n",
    "        \n",
    "        # Append childs to the parent\n",
    "        parent_idx = self.get_joint_idx(name)\n",
    "        parent_childs = self.chain.nodes[parent_idx]['childs']\n",
    "        parent_childs.append(new_joint_idx)\n",
    "        \n",
    "    def get_joint(self,joint_idx):\n",
    "        \"\"\"\n",
    "            Get joint in tree\n",
    "        \"\"\"\n",
    "        joint = self.chain.nodes[joint_idx]\n",
    "        return joint\n",
    "    \n",
    "    def update_joint_info(self,joint_idx,key,value):\n",
    "        \"\"\"\n",
    "            Update joint information \n",
    "        \"\"\"\n",
    "        self.chain.nodes[joint_idx][key] = value\n",
    "        \n",
    "    def forward_kinematics(self):\n",
    "        \"\"\"\n",
    "            Forward Kinematics\n",
    "        \"\"\"\n",
    "        for idx,edge in enumerate(dfs_edges(self.chain,source=0)):\n",
    "            idx_fr   = edge[0]\n",
    "            idx_to   = edge[1]\n",
    "            joint_fr = self.get_joint(idx_fr)\n",
    "            joint_to = self.get_joint(idx_to)\n",
    "            # Update p\n",
    "            p = joint_fr['R']@joint_to['p_offset'] + joint_fr['p']\n",
    "            self.update_joint_info(idx_to,'p',p)\n",
    "            # Update R\n",
    "            a_to = joint_to['a']\n",
    "            if abs(np.linalg.norm(a_to)-1) < 1e-6: # with axis\n",
    "                q_to = joint_to['q']\n",
    "                R = joint_fr['R']@joint_to['R_offset']@rodrigues(a=a_to,q=q_to)\n",
    "            else:\n",
    "                R = joint_fr['R']@joint_to['R_offset']\n",
    "            self.update_joint_info(idx_to,'R',R)\n",
    "    \n",
    "    \n",
    "    def print_chain_info(self):\n",
    "        \"\"\"\n",
    "            Print chain information\n",
    "        \"\"\"\n",
    "        n_joint = self.get_n_joint()\n",
    "        for j_idx in range(n_joint):\n",
    "            joint = self.get_joint(joint_idx=j_idx)\n",
    "            print (\"[%d/%d] joint name:[%s] p:%s rpy_deg:%s\"%\n",
    "                   (j_idx,n_joint,joint['name'],\n",
    "                    joint['p'],\n",
    "                    np.degrees(r2rpy(joint['R']))\n",
    "                   ))\n",
    "        \n",
    "    def plot_chain_graph(self,align='horizontal',figsize=(6,4),\n",
    "                   node_size=300,font_size=10,\n",
    "                   ROOT_ON_TOP=True):\n",
    "        \"\"\"\n",
    "            Plot chain graph\n",
    "        \"\"\"\n",
    "        tree = self.chain\n",
    "        for layer, nodes in enumerate(nx.topological_generations(tree)):\n",
    "            for node in nodes:\n",
    "                tree.nodes[node]['layer'] = layer\n",
    "        pos = nx.multipartite_layout(tree,align=align,\n",
    "                                     scale=1.0,subset_key='layer')\n",
    "        # Invert the tree so that the root node comes on the top\n",
    "        if ROOT_ON_TOP:\n",
    "            pos = {node: (x, -y) for node, (x, y) in pos.items()} \n",
    "        # Plot\n",
    "        fig,ax = plt.subplots(figsize=figsize)\n",
    "        nx.draw_networkx(tree,pos=pos,ax=ax,with_labels=True,\n",
    "                         node_size=node_size,font_size=font_size,node_color='w',\n",
    "                         linewidths=1,edgecolors='k')\n",
    "        ax.set_title('%s'%(tree.name))\n",
    "        fig.tight_layout()\n",
    "        plt.show()\n",
    "        \n",
    "print (\"Ready.\")        "
   ]
  },
  {
   "cell_type": "markdown",
   "id": "59e3ffb2",
   "metadata": {},
   "source": [
    "### Initialize kinematic chain"
   ]
  },
  {
   "cell_type": "code",
   "execution_count": 28,
   "id": "a41db78d",
   "metadata": {},
   "outputs": [],
   "source": [
    "KC = KinematicChainClass(name='Kinematic Chain')\n",
    "KC.add_joint(name='World',p=np.array([1,2,3]),R=rpy2r(np.radians([0,90,0])))\n",
    "KC.add_joint(name='Joint1',parent_name='World',\n",
    "             p_offset=np.array([0,0,1]),R_offset=rpy2r(np.radians([90,0,0])))\n",
    "KC.add_joint(name='Joint2',parent_name='Joint1',\n",
    "             p_offset=np.array([0,0,1]),R_offset=rpy2r(np.radians([0,90,0])))\n",
    "KC.add_joint(name='Joint3',parent_name='Joint2',\n",
    "             p_offset=np.array([0,0,1]),R_offset=rpy2r(np.radians([0,90,0])))\n",
    "KC.add_joint(name='Joint4',parent_name='Joint3',\n",
    "             p_offset=np.array([0,0,1]),R_offset=rpy2r(np.radians([0,0,0])))"
   ]
  },
  {
   "cell_type": "code",
   "execution_count": 29,
   "id": "ca9fae7a",
   "metadata": {},
   "outputs": [
    {
     "data": {
      "image/png": "[encoded data removed]",
      "text/plain": [
       "<Figure size 300x200 with 1 Axes>"
      ]
     },
     "metadata": {
      "image/png": {
       "height": 189,
       "width": 290
      }
     },
     "output_type": "display_data"
    }
   ],
   "source": [
    "# Plot chain\n",
    "KC.plot_chain_graph(figsize=(3,2),node_size=200,font_size=8)"
   ]
  },
  {
   "cell_type": "code",
   "execution_count": 30,
   "id": "eaffd09d",
   "metadata": {},
   "outputs": [
    {
     "name": "stdout",
     "output_type": "stream",
     "text": [
      "[0/5] joint name:[World] p:[1 2 3] rpy_deg:[ 0. 90.  0.]\n",
      "[1/5] joint name:[Joint1] p:[0. 0. 0.] rpy_deg:[ 0. -0.  0.]\n",
      "[2/5] joint name:[Joint2] p:[0. 0. 0.] rpy_deg:[ 0. -0.  0.]\n",
      "[3/5] joint name:[Joint3] p:[0. 0. 0.] rpy_deg:[ 0. -0.  0.]\n",
      "[4/5] joint name:[Joint4] p:[0. 0. 0.] rpy_deg:[ 0. -0.  0.]\n"
     ]
    }
   ],
   "source": [
    "KC.print_chain_info()"
   ]
  },
  {
   "cell_type": "markdown",
   "id": "6cabf9e5",
   "metadata": {},
   "source": [
    "### Forward Kinematics"
   ]
  },
  {
   "cell_type": "code",
   "execution_count": 31,
   "id": "41bc8e49",
   "metadata": {},
   "outputs": [],
   "source": [
    "KC.forward_kinematics()"
   ]
  },
  {
   "cell_type": "code",
   "execution_count": 32,
   "id": "37958c06",
   "metadata": {},
   "outputs": [
    {
     "name": "stdout",
     "output_type": "stream",
     "text": [
      "[0/5] joint name:[World] p:[1 2 3] rpy_deg:[ 0. 90.  0.]\n",
      "[1/5] joint name:[Joint1] p:[2. 2. 3.] rpy_deg:[90. 90.  0.]\n",
      "[2/5] joint name:[Joint2] p:[2. 1. 3.] rpy_deg:[1.80e+02 3.51e-15 9.00e+01]\n",
      "[3/5] joint name:[Joint3] p:[2. 1. 2.] rpy_deg:[153.43 -90.   116.57]\n",
      "[4/5] joint name:[Joint4] p:[2. 2. 2.] rpy_deg:[153.43 -90.   116.57]\n"
     ]
    }
   ],
   "source": [
    "KC.print_chain_info()"
   ]
  },
  {
   "cell_type": "code",
   "execution_count": null,
   "id": "d0d23e01",
   "metadata": {},
   "outputs": [],
   "source": []
  }
 ],
 "metadata": {
  "kernelspec": {
   "display_name": "Python 3 (ipykernel)",
   "language": "python",
   "name": "python3"
  },
  "language_info": {
   "codemirror_mode": {
    "name": "ipython",
    "version": 3
   },
   "file_extension": ".py",
   "mimetype": "text/x-python",
   "name": "python",
   "nbconvert_exporter": "python",
   "pygments_lexer": "ipython3",
   "version": "3.9.16"
  }
 },
 "nbformat": 4,
 "nbformat_minor": 5
}
