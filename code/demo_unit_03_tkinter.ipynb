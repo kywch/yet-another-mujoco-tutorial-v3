{
 "cells": [
  {
   "cell_type": "markdown",
   "id": "c647d772",
   "metadata": {},
   "source": [
    "### GUI using `tkinter` package"
   ]
  },
  {
   "cell_type": "code",
   "execution_count": 1,
   "id": "fcfee3af",
   "metadata": {},
   "outputs": [
    {
     "name": "stdout",
     "output_type": "stream",
     "text": [
      "Ready.\n"
     ]
    }
   ],
   "source": [
    "import numpy as np\n",
    "from util import MultiSliderClass\n",
    "print (\"Ready.\")"
   ]
  },
  {
   "cell_type": "markdown",
   "id": "9be5054a",
   "metadata": {},
   "source": [
    "### GUI with multiple sliders"
   ]
  },
  {
   "cell_type": "code",
   "execution_count": 2,
   "id": "00a43ec7",
   "metadata": {},
   "outputs": [
    {
     "name": "stdout",
     "output_type": "stream",
     "text": [
      "Done.\n"
     ]
    }
   ],
   "source": [
    "# Initialize multiple sliders\n",
    "n_slider = 20\n",
    "GUI = MultiSliderClass(\n",
    "    window_width=500,n_slider=n_slider,title='Multiple Sliders',\n",
    "    label_texts = ['Slider %02d '%(idx) for idx in range(n_slider)],\n",
    "    slider_mins = [-100]*n_slider,\n",
    "    slider_maxs = [100]*n_slider,\n",
    "    slider_vals = [0]*n_slider,\n",
    "    VERBOSE     = False\n",
    ")\n",
    "\n",
    "# Loop\n",
    "while GUI.is_window_exists():\n",
    "    GUI.update()\n",
    "    slider_values = GUI.get_slider_values()\n",
    "\n",
    "print (\"Done.\")"
   ]
  },
  {
   "cell_type": "code",
   "execution_count": null,
   "id": "81d3aff3",
   "metadata": {},
   "outputs": [],
   "source": []
  },
  {
   "cell_type": "code",
   "execution_count": 3,
   "id": "abc8a5db",
   "metadata": {},
   "outputs": [
    {
     "data": {
      "text/plain": [
       "array([ 70.,   0.,   0.,   0., -69.,   0.,   0.,   0.,   0.,   0., -75.,\n",
       "         0.,  39.,   0.,   0.,   0.,   0.,   0.,   0.,  64.])"
      ]
     },
     "execution_count": 3,
     "metadata": {},
     "output_type": "execute_result"
    }
   ],
   "source": [
    "GUI.get_slider_values()"
   ]
  },
  {
   "cell_type": "code",
   "execution_count": null,
   "id": "41123afc",
   "metadata": {},
   "outputs": [],
   "source": []
  }
 ],
 "metadata": {
  "kernelspec": {
   "display_name": "Python 3 (ipykernel)",
   "language": "python",
   "name": "python3"
  },
  "language_info": {
   "codemirror_mode": {
    "name": "ipython",
    "version": 3
   },
   "file_extension": ".py",
   "mimetype": "text/x-python",
   "name": "python",
   "nbconvert_exporter": "python",
   "pygments_lexer": "ipython3",
   "version": "3.9.16"
  }
 },
 "nbformat": 4,
 "nbformat_minor": 5
}
